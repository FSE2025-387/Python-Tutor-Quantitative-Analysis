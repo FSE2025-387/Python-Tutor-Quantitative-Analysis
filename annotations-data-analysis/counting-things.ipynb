{
 "cells": [
  {
   "cell_type": "code",
   "execution_count": null,
   "id": "37ee24b4",
   "metadata": {},
   "outputs": [],
   "source": [
    "import os\n",
    "import numpy as np\n",
    "import pandas as pd\n",
    "import statistics\n",
    "from matplotlib import pyplot as plt"
   ]
  },
  {
   "cell_type": "code",
   "execution_count": null,
   "id": "b67d42c2",
   "metadata": {},
   "outputs": [],
   "source": [
    "input_version = 5\n",
    "codebook_version = 2\n",
    "output_version = 2\n",
    "\n",
    "output_flag = True\n",
    "\n",
    "input_file = \"derived-dataframes/regression-data-v{}/codebook{}_longform.csv\".format(input_version, codebook_version)\n",
    "output_dir = \"output/figures-v{}\".format(output_version)\n",
    "\n",
    "if output_flag:\n",
    "    try:\n",
    "        os.mkdir(output_dir)\n",
    "    except FileExistsError:\n",
    "        print(\"High-level output directory already exists; no action taken.\")"
   ]
  },
  {
   "cell_type": "code",
   "execution_count": null,
   "id": "8544f51a",
   "metadata": {},
   "outputs": [],
   "source": [
    "# util for displaying dataframes\n",
    "# the defaults are actually 60 & 20, but that gets annoying\n",
    "def show(da, rows = 20, cols = 20, width = None):\n",
    "    pd.set_option(\"display.max_rows\", rows)\n",
    "    pd.set_option(\"display.max_columns\", cols)\n",
    "    pd.set_option(\"display.max_colwidth\", width)\n",
    "    display(da)\n",
    "    pd.reset_option(\"max_rows\")\n",
    "    pd.reset_option(\"max_columns\")\n",
    "    pd.reset_option(\"display.max_colwidth\")"
   ]
  },
  {
   "cell_type": "code",
   "execution_count": null,
   "id": "a097f930",
   "metadata": {
    "scrolled": true
   },
   "outputs": [],
   "source": [
    "da1 = pd.read_csv(input_file, keep_default_na=False, na_values=[\"_\"])\n",
    "da1"
   ]
  },
  {
   "cell_type": "code",
   "execution_count": null,
   "id": "416402cf",
   "metadata": {
    "scrolled": true
   },
   "outputs": [],
   "source": [
    "da1[\"code\"].value_counts().sort_index()"
   ]
  },
  {
   "cell_type": "markdown",
   "id": "07680eec",
   "metadata": {},
   "source": [
    "## Get request types by majority vote across annotators per interaction"
   ]
  },
  {
   "cell_type": "code",
   "execution_count": null,
   "id": "bc6cd8f9",
   "metadata": {},
   "outputs": [],
   "source": [
    "da1.groupby(by=[\"document\", \"conversation_number\"]).aggregate({\"voted_conversation_requests\" : \"first\"}).value_counts()"
   ]
  },
  {
   "cell_type": "code",
   "execution_count": null,
   "id": "c9dd5780",
   "metadata": {},
   "outputs": [],
   "source": [
    "(57 + 55) / (57 + 55 + 15 + 6)"
   ]
  },
  {
   "cell_type": "markdown",
   "id": "31996711",
   "metadata": {},
   "source": [
    "### Measure dissent"
   ]
  },
  {
   "cell_type": "code",
   "execution_count": null,
   "id": "9b77aa54",
   "metadata": {},
   "outputs": [],
   "source": [
    "# one entry per conversation-annotator\n",
    "da2_condensed = da1[da1[\"code\"].str.startswith(\"Big picture of an interaction > resolveRequest\")]\n",
    "da2_condensed.shape"
   ]
  },
  {
   "cell_type": "code",
   "execution_count": null,
   "id": "22c159b2",
   "metadata": {},
   "outputs": [],
   "source": [
    "requests_agree = da2_condensed[\"conversation_requests\"] == da2_condensed[\"voted_conversation_requests\"]\n",
    "requests_agree.value_counts()"
   ]
  },
  {
   "cell_type": "code",
   "execution_count": null,
   "id": "f404da97",
   "metadata": {},
   "outputs": [],
   "source": [
    "da2_condensed.loc[~requests_agree][\"voted_conversation_requests\"].value_counts()"
   ]
  },
  {
   "cell_type": "code",
   "execution_count": null,
   "id": "247f34e9",
   "metadata": {},
   "outputs": [],
   "source": [
    "a = da2_condensed.loc[~requests_agree][\"voted_conversation_requests\"].tolist()\n",
    "b = da2_condensed.loc[~requests_agree][\"conversation_requests\"].tolist()\n",
    "vals, counts = np.unique(list(zip(a, b)), return_counts=True, axis=0)\n",
    "\n",
    "print(\"MAJORITY         CLAIMED                         NO. INSTANCES\")\n",
    "for i in range(len(vals)):\n",
    "    maj = vals[i][0]\n",
    "    cla = vals[i][1]\n",
    "    print(maj, \" \" * (15 - len(maj)), cla, \" \" * (30 - len(cla)), counts[i])"
   ]
  },
  {
   "cell_type": "markdown",
   "id": "a8c48430",
   "metadata": {},
   "source": [
    "## Get outcomes by majority vote across annotators per interaction"
   ]
  },
  {
   "cell_type": "code",
   "execution_count": null,
   "id": "a29cf031",
   "metadata": {},
   "outputs": [],
   "source": [
    "da1.groupby(by=[\"document\", \"conversation_number\"]).aggregate({\"voted_conversation_outcome\" : \"first\"}).value_counts()"
   ]
  },
  {
   "cell_type": "markdown",
   "id": "1dec80e2",
   "metadata": {},
   "source": [
    "### Measure dissent"
   ]
  },
  {
   "cell_type": "code",
   "execution_count": null,
   "id": "68f3c82a",
   "metadata": {},
   "outputs": [],
   "source": [
    "outcomes_agree = da2_condensed[\"conversation_outcome\"] == da2_condensed[\"voted_conversation_outcome\"]\n",
    "outcomes_agree.value_counts()"
   ]
  },
  {
   "cell_type": "code",
   "execution_count": null,
   "id": "e01a9a67",
   "metadata": {},
   "outputs": [],
   "source": [
    "da2_condensed.loc[~outcomes_agree][\"voted_conversation_outcome\"].value_counts()"
   ]
  },
  {
   "cell_type": "code",
   "execution_count": null,
   "id": "f1b9e927",
   "metadata": {},
   "outputs": [],
   "source": [
    "a = da2_condensed.loc[~outcomes_agree][\"voted_conversation_outcome\"].tolist()\n",
    "b = da2_condensed.loc[~outcomes_agree][\"conversation_outcome\"].tolist()\n",
    "c = da2_condensed.loc[~outcomes_agree][\"voted_conversation_requests\"].tolist()\n",
    "vals, counts = np.unique(list(zip(a, b, c)), return_counts=True, axis=0)\n",
    "\n",
    "print(\"REQUESTS              MAJORITY    CLAIMED     NO. INSTANCES\")\n",
    "for i in range(len(vals)):\n",
    "    maj = vals[i][0]\n",
    "    cla = vals[i][1]\n",
    "    req = vals[i][2]\n",
    "    print(req, \" \" * (20 - len(req)), maj, \" \" * (10 - len(maj)), cla, \" \" * (10 - len(cla)), counts[i])"
   ]
  },
  {
   "cell_type": "code",
   "execution_count": null,
   "id": "93b5e871",
   "metadata": {},
   "outputs": [],
   "source": [
    "# interestingly, most disagreement on outcome occurs in codeWrite requests"
   ]
  },
  {
   "cell_type": "markdown",
   "id": "accf2df7",
   "metadata": {},
   "source": [
    "## Get outcomes per request type"
   ]
  },
  {
   "cell_type": "code",
   "execution_count": null,
   "id": "b39fd1b2",
   "metadata": {},
   "outputs": [],
   "source": [
    "convda = da1.groupby(by=[\"document\", \"conversation_number\"])\n",
    "convda = convda.aggregate({\"voted_conversation_requests\" : \"first\", \n",
    "                           \"voted_conversation_outcome\" : \"first\"})\n",
    "convda"
   ]
  },
  {
   "cell_type": "code",
   "execution_count": null,
   "id": "5c278800",
   "metadata": {},
   "outputs": [],
   "source": [
    "convda[\"success\"] = convda[\"voted_conversation_outcome\"] == \"S\""
   ]
  },
  {
   "cell_type": "code",
   "execution_count": null,
   "id": "bffaf0a2",
   "metadata": {},
   "outputs": [],
   "source": [
    "request_outcomes_da = convda.groupby(by=[\"voted_conversation_requests\"]).aggregate({\"success\" : [\"sum\", \"count\"]})\n",
    "request_outcomes_da[(\"success\", \"rate\")] = request_outcomes_da[(\"success\", \"sum\")] / request_outcomes_da[(\"success\", \"count\")]\n",
    "request_outcomes_da.sort_values((\"success\", \"count\"), ascending=False)"
   ]
  },
  {
   "cell_type": "markdown",
   "id": "c13546a6",
   "metadata": {},
   "source": [
    "## Content domain frequencies"
   ]
  },
  {
   "cell_type": "code",
   "execution_count": null,
   "id": "560d2d26",
   "metadata": {},
   "outputs": [],
   "source": [
    "# this should eventually move into the data preprocessing script\n",
    "if codebook_version == 1:\n",
    "    da1[\"code_contentDomain\"] = np.where(da1[\"code\"].str.startswith(\"General message attributes > contentDomain\"), \n",
    "                                         da1[\"code\"].str.split(\" > \").str[2], \n",
    "                                         \"N/A\")\n",
    "\n",
    "# get the relevant rows\n",
    "conda = da1[da1[\"code_contentDomain\"] != \"N/A\"].copy()\n",
    "\n",
    "# shorten some variable names to make the labels on the graph a little easier to look at\n",
    "if codebook_version in {1, 2, 3}:\n",
    "    conda[\"code_contentDomain\"] = conda[\"code_contentDomain\"].replace(\n",
    "        {\"proposedNewCode\" : \"newCode\", \n",
    "         \"codeSpecifications\" : \"specifications\"}) \n",
    "if codebook_version in {4}:\n",
    "    conda[\"code_contentDomain\"] = conda[\"code_contentDomain\"].replace(\n",
    "        {\"higherLevelInstruction\" : \"holisticHelp\", \n",
    "         \"rapportBuilding\" : \"rapport\", \n",
    "         \"codeSpecifications\" : \"specifications\"})\n",
    "\n",
    "# compute the thing\n",
    "def tmp(da):\n",
    "    da = da[\"code_contentDomain\"].value_counts()\n",
    "    for c in conda[\"code_contentDomain\"].unique():\n",
    "        if not c in da.index:\n",
    "            da[c] = 0\n",
    "    return da.sort_index()\n",
    "\n",
    "confr = conda.groupby(by=\"annotator\").apply(tmp)\n",
    "confr = confr.median(axis=0).sort_values(ascending=False)"
   ]
  },
  {
   "cell_type": "code",
   "execution_count": null,
   "id": "af32ac30",
   "metadata": {},
   "outputs": [],
   "source": [
    "fig = plt.figure(figsize=(12, 4))\n",
    "plt.bar(confr.index, confr)\n",
    "fl, ft, fa = 18, 20, 20\n",
    "plt.xlabel(\"Content domain\", fontsize=fa)\n",
    "plt.ylabel(\"Number of instances\", fontsize=fa)\n",
    "plt.title(\"Content domain frequencies across all data\", fontsize=ft)\n",
    "plt.xticks(rotation=50, ha=\"right\", fontsize=fl)\n",
    "fig.show()\n",
    "if output_flag:\n",
    "    fig.savefig(os.path.join(output_dir, \"content-counts.png\"), bbox_inches = \"tight\")"
   ]
  },
  {
   "cell_type": "markdown",
   "id": "a7846c12",
   "metadata": {},
   "source": [
    "### Do it again but per-request-type"
   ]
  },
  {
   "cell_type": "markdown",
   "id": "0ac80a6f",
   "metadata": {},
   "source": [
    "#### Show them individually"
   ]
  },
  {
   "cell_type": "code",
   "execution_count": null,
   "id": "88dabadd",
   "metadata": {},
   "outputs": [],
   "source": [
    "confr = conda.groupby(by=[\"voted_conversation_requests\", \"annotator\"]).apply(tmp)\n",
    "confr = confr.groupby(by=\"voted_conversation_requests\").aggregate(\"median\")\n",
    "confr"
   ]
  },
  {
   "cell_type": "code",
   "execution_count": null,
   "id": "11d6bfc7",
   "metadata": {
    "scrolled": true
   },
   "outputs": [],
   "source": [
    "for request in confr.index:\n",
    "    fr = confr.loc[request]\n",
    "    \n",
    "    fig = plt.figure(figsize=(12, 4))\n",
    "    plt.bar(fr.index, fr)\n",
    "    fl, ft, fa = 18, 20, 20\n",
    "    plt.xlabel(\"Content domain\", fontsize=fa)\n",
    "    plt.ylabel(\"Number of instances\", fontsize=fa)\n",
    "    plt.title(\"Content domain frequencies for request type {}\".format(request), fontsize=ft)\n",
    "    plt.xticks(rotation=50, ha=\"right\", fontsize=fl)\n",
    "    fig.show()\n",
    "    if output_flag:\n",
    "        fig.savefig(os.path.join(output_dir, \"{}-content-counts.png\".format(request)), bbox_inches = \"tight\")"
   ]
  },
  {
   "cell_type": "markdown",
   "id": "a5f89412",
   "metadata": {},
   "source": [
    "#### Show them all at once"
   ]
  },
  {
   "cell_type": "code",
   "execution_count": null,
   "id": "36b119d5",
   "metadata": {},
   "outputs": [],
   "source": [
    "confrp = confr.div(confr.sum(axis=1), axis=0)\n",
    "confrp = confrp.rename(columns={\"bug\" : \"Bug\", \n",
    "                                \"codeOpinion\" : \"Code opinion\", \n",
    "                                \"codingConcept\" : \"Coding concept\", \n",
    "                                \"codingExperience\": \"Coding experience\", \n",
    "                                \"developmentStrategy\": \"Development strategy\", \n",
    "                                \"errorLocation\": \"Error location\", \n",
    "                                \"errorMsg\": \"Error message\", \n",
    "                                \"learningResources\": \"Learning resources\", \n",
    "                                \"newCode\": \"Proposed new code\", \n",
    "                                \"originalCode\": \"Original code\", \n",
    "                                \"personalInfo\": \"Personal information\", \n",
    "                                \"platformRelated\": \"Platform related\", \n",
    "                                \"specifications\": \"Specifications\", \n",
    "                                \"testCases\": \"Test cases\"})\n",
    "confrp = confrp.rename(index={\"bugFix\" : \"Bug fix\", \n",
    "                              \"codeComprehension\" : \"Code comprehension\", \n",
    "                              \"codeImprove\" : \"Code improve\", \n",
    "                              \"codeWrite\" : \"Code write\"})"
   ]
  },
  {
   "cell_type": "code",
   "execution_count": null,
   "id": "dfdfbaf3-d8a7-4185-9b44-c584ce2202b9",
   "metadata": {},
   "outputs": [],
   "source": [
    "confrp = confrp[confrp.sum().sort_values(ascending=True).index]\n",
    "confrp = confrp.transpose()\n",
    "confrp"
   ]
  },
  {
   "cell_type": "code",
   "execution_count": null,
   "id": "aa4eec67",
   "metadata": {},
   "outputs": [],
   "source": [
    "ax = confrp.plot(kind='bar', figsize=(12, 4), width=0.8)\n",
    "ax.set_xlabel(\"Content domain\", fontsize=fa)\n",
    "ax.set_ylabel(\"Proportion of instances\", fontsize=fa)\n",
    "ax.set_title(\"Content domain frequencies broken down by request type\", fontsize=ft)\n",
    "ax.legend(fontsize=fl-2)\n",
    "plt.grid()\n",
    "plt.xticks(rotation=30, ha=\"right\", fontsize=fl-2)\n",
    "plt.yticks(fontsize=fl-2)\n",
    "if output_flag:\n",
    "    plt.savefig(os.path.join(output_dir, \"request-content-counts.pdf\"), bbox_inches = \"tight\")\n",
    "else:\n",
    "    plt.show()"
   ]
  },
  {
   "cell_type": "markdown",
   "id": "a152e045",
   "metadata": {},
   "source": [
    "### Do it again but only for Learner questions"
   ]
  },
  {
   "cell_type": "code",
   "execution_count": null,
   "id": "40d9f9bb",
   "metadata": {},
   "outputs": [],
   "source": [
    "# FIXME I like this better, need to implement it everywhere\n",
    "#confr = conda.groupby(by=[\"document\", \"conversation_number\", \"voted_conversation_requests\", \"annotator\"]).apply(tmp)\n",
    "#confr = confr.groupby(by=[\"document\", \"conversation_number\", \"voted_conversation_requests\"]).aggregate(\"median\")\n",
    "#confr = confr.groupby(by=\"voted_conversation_requests\").aggregate(\"sum\")\n",
    "#confr"
   ]
  },
  {
   "cell_type": "code",
   "execution_count": null,
   "id": "5fccf857",
   "metadata": {},
   "outputs": [],
   "source": [
    "assert(codebook_version in {2, 3, 4}) # need this structure for this to work\n",
    "\n",
    "qconda = conda[(conda[\"code_primary\"] == \"Questioning\") & conda[\"speakerIsLearner\"]] # & (conda[\"conversation_strict\"] == True)\n",
    "qconfr = qconda.groupby(by=[\"document\", \"conversation_number\", \"voted_conversation_requests\", \"annotator\"]).apply(tmp)\n",
    "qconfr = qconfr.groupby(by=[\"document\", \"conversation_number\", \"voted_conversation_requests\"]).aggregate(\"median\")\n",
    "qconfr = qconfr.groupby(by=\"voted_conversation_requests\").aggregate(\"sum\")\n",
    "qconfr"
   ]
  },
  {
   "cell_type": "code",
   "execution_count": null,
   "id": "8f93b18f",
   "metadata": {},
   "outputs": [],
   "source": [
    "assert(codebook_version in {2, 3, 4})\n",
    "\n",
    "qconfrp = qconfr.div(qconfr.sum(axis=1), axis=0) # row-normalize"
   ]
  },
  {
   "cell_type": "code",
   "execution_count": null,
   "id": "6d2f7b08",
   "metadata": {},
   "outputs": [],
   "source": [
    "assert(codebook_version in {2, 3, 4})\n",
    "\n",
    "ax = qconfrp.transpose().plot(kind='bar', figsize=(12, 4), width=0.8)\n",
    "ax.set_xlabel(\"Content domain\", fontsize=fa)\n",
    "ax.set_ylabel(\"Proportion of instances\", fontsize=fa)\n",
    "ax.set_title(\"Learner question content frequencies broken down by request type\", fontsize=ft)\n",
    "ax.legend(fontsize=fl-2)\n",
    "plt.xticks(rotation=50, ha=\"right\", fontsize=fl)\n",
    "if output_flag:\n",
    "    plt.savefig(os.path.join(output_dir, \"request-learner-question-content-counts.png\"), bbox_inches = \"tight\")\n",
    "else:\n",
    "    plt.show()"
   ]
  },
  {
   "cell_type": "markdown",
   "id": "4000608e",
   "metadata": {},
   "source": [
    "### Do it again but only for Helper explanations/help"
   ]
  },
  {
   "cell_type": "code",
   "execution_count": null,
   "id": "32f74a81",
   "metadata": {},
   "outputs": [],
   "source": [
    "assert(codebook_version in {2, 3, 4}) # need this structure for this to work\n",
    "\n",
    "hconda = conda[(conda[\"code_primary\"] == \"Helping\") & ~conda[\"speakerIsLearner\"]] # & (conda[\"conversation_strict\"] == True)\n",
    "hconfr = hconda.groupby(by=[\"document\", \"conversation_number\", \"voted_conversation_requests\", \"annotator\"]).apply(tmp)\n",
    "hconfr = hconfr.groupby(by=[\"document\", \"conversation_number\", \"voted_conversation_requests\"]).aggregate(\"median\")\n",
    "hconfr = hconfr.groupby(by=\"voted_conversation_requests\").aggregate(\"sum\")\n",
    "hconfr"
   ]
  },
  {
   "cell_type": "code",
   "execution_count": null,
   "id": "14863c0e",
   "metadata": {},
   "outputs": [],
   "source": [
    "assert(codebook_version in {2, 3, 4})\n",
    "\n",
    "hconfrp = hconfr.div(hconfr.sum(axis=1), axis=0) # row-normalize"
   ]
  },
  {
   "cell_type": "code",
   "execution_count": null,
   "id": "40749fca",
   "metadata": {},
   "outputs": [],
   "source": [
    "assert(codebook_version in {2, 3, 4})\n",
    "\n",
    "ax = hconfrp.transpose().plot(kind='bar', figsize=(12, 4), width=0.8)\n",
    "ax.set_xlabel(\"Content domain\", fontsize=fa)\n",
    "ax.set_ylabel(\"Proportion of instances\", fontsize=fa)\n",
    "ax.set_title(\"Helping content frequencies broken down by request type\", fontsize=ft)\n",
    "ax.legend(fontsize=fl-2)\n",
    "plt.xticks(rotation=50, ha=\"right\", fontsize=fl)\n",
    "if output_flag:\n",
    "    plt.savefig(os.path.join(output_dir, \"request-helper-helping-content-counts.png\"), bbox_inches = \"tight\")\n",
    "else:\n",
    "    plt.show()"
   ]
  },
  {
   "cell_type": "markdown",
   "id": "4e985c01",
   "metadata": {},
   "source": [
    "## Experience & personal info"
   ]
  },
  {
   "cell_type": "markdown",
   "id": "b958e773",
   "metadata": {},
   "source": [
    "### Learners"
   ]
  },
  {
   "cell_type": "markdown",
   "id": "763e465e",
   "metadata": {},
   "source": [
    "#### Coding experience\n",
    "\n",
    "This doesn't work for codebook 4, because it's been pooled with other things!"
   ]
  },
  {
   "cell_type": "code",
   "execution_count": null,
   "id": "5653ae92",
   "metadata": {
    "scrolled": true
   },
   "outputs": [],
   "source": [
    "assert(not codebook_version in {4})\n",
    "\n",
    "expda = da1[(da1[\"code_contentDomain\"] == \"codingExperience\") & da1[\"speakerIsLearner\"]]\n",
    "expda = expda.sort_values([\"document\", \"conversation_number\", \n",
    "                           \"quote_startPosition\", \"quote_endPosition\", \"annotator\"])\n",
    "expda = expda[[\"document\", \"conversation_number\", \"annotator\", \"quote_text\", \n",
    "               \"quote_startPosition\", \"quote_endPosition\"]]\n",
    "\n",
    "pd.set_option(\"display.max_colwidth\", None)\n",
    "expda.groupby(by=[\"document\"]).apply(display)\n",
    "pd.reset_option(\"display.max_colwidth\")"
   ]
  },
  {
   "cell_type": "code",
   "execution_count": null,
   "id": "50df4adb",
   "metadata": {},
   "outputs": [],
   "source": [
    "assert(not codebook_version in {4})\n",
    "\n",
    "# \"we saw everything in 1 week\"\n",
    "pd.set_option(\"display.max_colwidth\", None)\n",
    "display(da1[(da1[\"document\"] == \"DRskphqiwF.txt\") & \n",
    "            (da1[\"conversation_number\"] == 0) & \n",
    "            (da1[\"annotator\"] == \"A\") &\n",
    "            (5200 < da1[\"quote_startPosition\"]) & \n",
    "            (da1[\"quote_startPosition\"] < 5400)])\n",
    "pd.reset_option(\"display.max_colwidth\")"
   ]
  },
  {
   "cell_type": "code",
   "execution_count": null,
   "id": "aee933d3",
   "metadata": {
    "scrolled": true
   },
   "outputs": [],
   "source": [
    "assert(not codebook_version in {4})\n",
    "\n",
    "# \"yes, beginning though\"\n",
    "pd.set_option(\"display.max_colwidth\", None)\n",
    "display(da1[(da1[\"document\"] == \"6SdCx2rR9F.txt\") & \n",
    "            (da1[\"conversation_number\"] == 0) & \n",
    "            (3500 < da1[\"quote_startPosition\"]) & \n",
    "            (da1[\"quote_startPosition\"] < 3707)])\n",
    "pd.reset_option(\"display.max_colwidth\")"
   ]
  },
  {
   "cell_type": "markdown",
   "id": "09e5758a",
   "metadata": {},
   "source": [
    "#### Personal info"
   ]
  },
  {
   "cell_type": "code",
   "execution_count": null,
   "id": "4f58bdbf",
   "metadata": {
    "scrolled": true
   },
   "outputs": [],
   "source": [
    "assert(not codebook_version in {4})\n",
    "\n",
    "perda = da1[(da1[\"code_contentDomain\"] == \"personalInfo\") & da1[\"speakerIsLearner\"]]\n",
    "perda = perda.sort_values([\"document\", \"conversation_number\", \n",
    "                           \"quote_startPosition\", \"quote_endPosition\", \"annotator\"])\n",
    "perda = perda[[\"document\", \"conversation_number\", \"annotator\", \"quote_text\", \n",
    "               \"quote_startPosition\", \"quote_endPosition\"]]\n",
    "\n",
    "pd.set_option(\"display.max_colwidth\", None)\n",
    "perda.groupby(by=[\"document\"]).apply(display)\n",
    "pd.reset_option(\"display.max_colwidth\")"
   ]
  },
  {
   "cell_type": "code",
   "execution_count": null,
   "id": "3219da25",
   "metadata": {},
   "outputs": [],
   "source": [
    "assert(not codebook_version in {4})\n",
    "\n",
    "# nontraditional 1 (3 hr drive)"
   ]
  },
  {
   "cell_type": "code",
   "execution_count": null,
   "id": "7e8a964f",
   "metadata": {
    "scrolled": true
   },
   "outputs": [],
   "source": [
    "assert(not codebook_version in {4})\n",
    "\n",
    "# nontraditional 2 (Level 35)\n",
    "pd.set_option(\"display.max_colwidth\", None)\n",
    "display(da1[(da1[\"document\"] == \"2I1pDSUuKI.txt\") & \n",
    "            (da1[\"conversation_number\"] == 0) & \n",
    "            (da1[\"annotator\"] == \"A\") & # output was too verbose\n",
    "            (4100 < da1[\"quote_startPosition\"]) & \n",
    "            (da1[\"quote_startPosition\"] < 4616)])\n",
    "pd.reset_option(\"display.max_colwidth\")"
   ]
  },
  {
   "cell_type": "markdown",
   "id": "f403e079",
   "metadata": {},
   "source": [
    "### Helpers"
   ]
  },
  {
   "cell_type": "markdown",
   "id": "b400185c",
   "metadata": {},
   "source": [
    "#### Coding experience"
   ]
  },
  {
   "cell_type": "code",
   "execution_count": null,
   "id": "76f28b39",
   "metadata": {
    "scrolled": true
   },
   "outputs": [],
   "source": [
    "assert(not codebook_version in {4})\n",
    "\n",
    "expda = da1[(da1[\"code_contentDomain\"] == \"codingExperience\") & ~da1[\"speakerIsLearner\"]]\n",
    "expda = expda.sort_values([\"document\", \"conversation_number\", \n",
    "                           \"quote_startPosition\", \"quote_endPosition\", \"annotator\"])\n",
    "expda = expda[[\"document\", \"conversation_number\", \"annotator\", \"quote_text\", \n",
    "               \"quote_startPosition\", \"quote_endPosition\"]]\n",
    "\n",
    "pd.set_option(\"display.max_colwidth\", None)\n",
    "expda.groupby(by=[\"document\"]).apply(display)\n",
    "pd.reset_option(\"display.max_colwidth\")"
   ]
  },
  {
   "cell_type": "markdown",
   "id": "8b670197",
   "metadata": {},
   "source": [
    "#### Personal info"
   ]
  },
  {
   "cell_type": "code",
   "execution_count": null,
   "id": "08c19014",
   "metadata": {
    "scrolled": true
   },
   "outputs": [],
   "source": [
    "assert(not codebook_version in {4})\n",
    "\n",
    "perda = da1[(da1[\"code_contentDomain\"] == \"personalInfo\") & ~da1[\"speakerIsLearner\"]]\n",
    "perda = perda.sort_values([\"document\", \"conversation_number\", \n",
    "                           \"quote_startPosition\", \"quote_endPosition\", \"annotator\"])\n",
    "perda = perda[[\"document\", \"conversation_number\", \"annotator\", \"quote_text\", \n",
    "               \"quote_startPosition\", \"quote_endPosition\"]]\n",
    "\n",
    "pd.set_option(\"display.max_colwidth\", None)\n",
    "perda.groupby(by=[\"document\"]).apply(display)\n",
    "pd.reset_option(\"display.max_colwidth\")"
   ]
  },
  {
   "cell_type": "code",
   "execution_count": null,
   "id": "452b524b",
   "metadata": {
    "scrolled": true
   },
   "outputs": [],
   "source": [
    "assert(not codebook_version in {4})\n",
    "\n",
    "# \"I am in 11th grade\"\n",
    "pd.set_option(\"display.max_colwidth\", None)\n",
    "display(da1[(da1[\"document\"] == \"nvPpBOafGk.txt\") & \n",
    "            (da1[\"conversation_number\"] == 0) & \n",
    "            (da1[\"annotator\"] == \"A\") & # output was too verbose\n",
    "            #(2900 < da1[\"quote_startPosition\"]) & \n",
    "            (da1[\"quote_startPosition\"] < 3681)])\n",
    "pd.reset_option(\"display.max_colwidth\")"
   ]
  },
  {
   "cell_type": "markdown",
   "id": "b02f0fd8",
   "metadata": {},
   "source": [
    "#### Teaching philosophy"
   ]
  },
  {
   "cell_type": "code",
   "execution_count": null,
   "id": "f39538da",
   "metadata": {
    "scrolled": true
   },
   "outputs": [],
   "source": [
    "phida = da1[(da1[\"code\"] == \"Attitude, tone, or mood > expressTeachingPhilosophy\") & \n",
    "            ~da1[\"speakerIsLearner\"]]\n",
    "phida = phida.sort_values([\"document\", \"conversation_number\", \n",
    "                           \"quote_startPosition\", \"quote_endPosition\", \"annotator\"])\n",
    "phida = phida[[\"document\", \"conversation_number\", \"annotator\", \"quote_text\", \n",
    "               \"quote_startPosition\", \"quote_endPosition\"]]\n",
    "\n",
    "pd.set_option(\"display.max_colwidth\", None)\n",
    "phida.groupby(by=[\"document\"]).apply(display)\n",
    "pd.reset_option(\"display.max_colwidth\")"
   ]
  },
  {
   "cell_type": "code",
   "execution_count": null,
   "id": "635d8979",
   "metadata": {},
   "outputs": [],
   "source": []
  },
  {
   "cell_type": "markdown",
   "id": "b08379af",
   "metadata": {},
   "source": [
    "## Attitude/tone/mood frequencies"
   ]
  },
  {
   "cell_type": "code",
   "execution_count": null,
   "id": "2d7920fe",
   "metadata": {},
   "outputs": [],
   "source": [
    "# get the relevant rows\n",
    "attda = da1[da1[\"code\"].str.startswith(\"Attitude, tone, or mood\")].copy()\n",
    "#attda[\"code\"] = attda[\"code\"].str[len(\"Attitude, tone, or mood > \"):]\n",
    "attda[\"code\"] = attda[\"code\"].str.split(\" > \").str[-1]\n",
    "\n",
    "# shorten some variable names to make the labels on the graph a little easier to look at\n",
    "attda[\"code\"] = attda[\"code\"].replace(\n",
    "    {\"expressSatisfactionOrGratitude\" : \"satisfaction/gratitude\", \n",
    "     \"expressSupportingWords\" : \"supportingWords\", \n",
    "     \"expressTeachingPhilosophy\" : \"teachingPhilosophy\", \n",
    "     \"selfTalk\" : \"negativeSelfTalk\"}) \n",
    "\n",
    "# compute the thing\n",
    "def tmp(da):\n",
    "    da = da[\"code\"].value_counts()\n",
    "    for c in attda[\"code\"].unique():\n",
    "        if not c in da.index:\n",
    "            da[c] = 0\n",
    "    return da.sort_index()\n",
    "\n",
    "attfr = attda.groupby(by=\"annotator\").apply(tmp)\n",
    "attfr = attfr.median(axis=0).sort_values(ascending=False)\n",
    "\n",
    "attfr"
   ]
  },
  {
   "cell_type": "code",
   "execution_count": null,
   "id": "bf4ea44e",
   "metadata": {},
   "outputs": [],
   "source": [
    "# this is not particularly interesting imo\n",
    "fig = plt.figure(figsize=(12, 4))\n",
    "plt.bar(attfr.index, attfr)\n",
    "fl, ft, fa = 18, 20, 20\n",
    "plt.xlabel(\"Expression of attitude, tone, or mood\", fontsize=fa)\n",
    "plt.ylabel(\"Number of instances\", fontsize=fa)\n",
    "plt.title(\"Attitude/tone/mood frequencies across all data\", fontsize=ft)\n",
    "plt.xticks(rotation=50, ha=\"right\", fontsize=fl)\n",
    "fig.show()\n",
    "if output_flag:\n",
    "    fig.savefig(os.path.join(output_dir, \"attitude-counts.png\"), bbox_inches = \"tight\")"
   ]
  },
  {
   "cell_type": "code",
   "execution_count": null,
   "id": "c5c59edf",
   "metadata": {},
   "outputs": [],
   "source": [
    "attfr = attda.groupby(by=[\"voted_conversation_requests\", \"annotator\"]).apply(tmp)\n",
    "attfr = attfr.groupby(by=\"voted_conversation_requests\").aggregate(\"median\")\n",
    "attfr"
   ]
  },
  {
   "cell_type": "code",
   "execution_count": null,
   "id": "f4c693ac",
   "metadata": {
    "scrolled": true
   },
   "outputs": [],
   "source": [
    "for request in attfr.index:\n",
    "    fr = attfr.loc[request]\n",
    "    \n",
    "    fig = plt.figure(figsize=(12, 4))\n",
    "    plt.bar(fr.index, fr)\n",
    "    fl, ft, fa = 18, 20, 20\n",
    "    plt.xlabel(\"Expression of attitude, tone, or mood\", fontsize=fa)\n",
    "    plt.ylabel(\"Number of instances\", fontsize=fa)\n",
    "    plt.title(\"Attitude/tone/mood frequencies for request type {}\".format(request), fontsize=ft)\n",
    "    plt.xticks(rotation=50, ha=\"right\", fontsize=fl)\n",
    "    fig.show()\n",
    "    if output_flag:\n",
    "        fig.savefig(os.path.join(output_dir, \"{}-attitude-counts.png\".format(request)), bbox_inches = \"tight\")"
   ]
  },
  {
   "cell_type": "code",
   "execution_count": null,
   "id": "3c1d38d9",
   "metadata": {},
   "outputs": [],
   "source": [
    "attfrp = attfr.div(attfr.sum(axis=1), axis=0)\n",
    "attfrp = attfrp.rename(columns={\"apology\" : \"Apology\", \n",
    "                                \"beingLost\" : \"Being lost\", \n",
    "                                \"beingWrong\" : \"Being wrong\", \n",
    "                                \"frustration\" : \"Frustration\", \n",
    "                                \"greeting\" : \"Greeting\", \n",
    "                                \"negativeSelfTalk\" : \"Negative self talk\", \n",
    "                                \"satisfaction/gratitude\" : \"Satisfaction or gratitude\", \n",
    "                                \"supportingWords\" : \"Supporting words\", \n",
    "                                \"teachingPhilosophy\" : \"Teaching philosophy\"})\n",
    "attfrp = attfrp.rename(index={\"bugFix\" : \"Bug fix\", \n",
    "                              \"codeComprehension\" : \"Code comprehension\", \n",
    "                              \"codeImprove\" : \"Code improve\", \n",
    "                              \"codeWrite\" : \"Code write\"})"
   ]
  },
  {
   "cell_type": "code",
   "execution_count": null,
   "id": "51c6af92-7dab-4c5c-beb3-aadad017951c",
   "metadata": {},
   "outputs": [],
   "source": [
    "attfrp = attfrp[attfrp.sum().sort_values(ascending=False).index]\n",
    "attfrp = attfrp.transpose()\n",
    "attfrp"
   ]
  },
  {
   "cell_type": "code",
   "execution_count": null,
   "id": "bfa0bce6",
   "metadata": {},
   "outputs": [],
   "source": [
    "ax = attfrp.plot(kind='bar', figsize=(12, 4), width=0.8)\n",
    "ax.set_xlabel(\"Expression of attitude, tone, or mood\", fontsize=fa)\n",
    "ax.set_ylabel(\"Proportion of instances\", fontsize=fa)\n",
    "ax.set_title(\"Attitude/tone/mood frequencies broken down by request type\", fontsize=ft)\n",
    "ax.legend(fontsize=fl-2)\n",
    "plt.grid()\n",
    "plt.xticks(rotation=30, ha=\"right\", fontsize=fl-2)\n",
    "plt.yticks(fontsize=fl-2)\n",
    "if output_flag:\n",
    "    plt.savefig(os.path.join(output_dir, \"request-attitude-counts.pdf\"), bbox_inches = \"tight\")\n",
    "else:\n",
    "    plt.show()"
   ]
  },
  {
   "cell_type": "markdown",
   "id": "03a00347",
   "metadata": {},
   "source": [
    "- It's worth noting that `codeComprehension` and `codeImprove` request types both suffer from small denominators\n",
    "- `greeting` is low for `codeComprehension` requests, potentially indicating that it's not usually the first request in a document\n",
    "- `greeting` is high for `codeImprove` requests, potentially indicating that it doesn't tend to stem from prior requests\n",
    "- `supportingWords` and `negativeSelfTalk` are both high for `codeComprehension` requests, potentially indicating that Learners find this more difficult than other request types\n",
    "- `supportingWords` is low for `codeImprove` requests, potentially indicating that Helpers perceive that Learners are struggling less or at a more advanced level"
   ]
  },
  {
   "cell_type": "markdown",
   "id": "d6865e36",
   "metadata": {},
   "source": [
    "### Taking a look at the conversation number hypothesis"
   ]
  },
  {
   "cell_type": "code",
   "execution_count": null,
   "id": "f1473a09",
   "metadata": {},
   "outputs": [],
   "source": [
    "attfr = attda.groupby(by=[\"document\", \"conversation_number\", \"annotator\"]).apply(tmp)\n",
    "attfr = attfr.groupby(by=[\"document\", \"conversation_number\"]).aggregate(\"median\")\n",
    "attfr = attfr.groupby(by=\"conversation_number\").aggregate(\"mean\")\n",
    "attfr"
   ]
  },
  {
   "cell_type": "code",
   "execution_count": null,
   "id": "4f48d5c1",
   "metadata": {
    "scrolled": true
   },
   "outputs": [],
   "source": [
    "for n in attfr.index:\n",
    "    fr = attfr.loc[n]\n",
    "    \n",
    "    fig = plt.figure(figsize=(12, 4))\n",
    "    plt.bar(fr.index, fr)\n",
    "    fl, ft, fa = 18, 20, 20\n",
    "    plt.xlabel(\"Expression of attitude, tone, or mood\", fontsize=fa)\n",
    "    plt.ylabel(\"Average number of instances\", fontsize=fa)\n",
    "    plt.title(\"Attitude/tone/mood frequencies for conversation {}\".format(n), fontsize=ft)\n",
    "    plt.xticks(rotation=50, ha=\"right\", fontsize=fl)\n",
    "    fig.show()\n",
    "    if output_flag:\n",
    "        fig.savefig(os.path.join(output_dir, \"conv{}-attitude-counts.png\".format(n)), bbox_inches = \"tight\")"
   ]
  },
  {
   "cell_type": "code",
   "execution_count": null,
   "id": "0344ef14",
   "metadata": {},
   "outputs": [],
   "source": [
    "ax = attfr.transpose().plot(kind='bar', figsize=(12, 4), width=0.8)\n",
    "ax.set_xlabel(\"Expression of attitude, tone, or mood\", fontsize=fa)\n",
    "ax.set_ylabel(\"Average number of instances\", fontsize=fa)\n",
    "ax.set_title(\"Attitude/tone/mood frequencies broken down by conversation number\", fontsize=ft)\n",
    "ax.legend(fontsize=fl-2)\n",
    "plt.xticks(rotation=50, ha=\"right\", fontsize=fl)\n",
    "if output_flag:\n",
    "    plt.savefig(os.path.join(output_dir, \"conv-attitude-counts.png\"), bbox_inches = \"tight\")\n",
    "else:\n",
    "    plt.show()"
   ]
  },
  {
   "cell_type": "code",
   "execution_count": null,
   "id": "0ca68f19",
   "metadata": {},
   "outputs": [],
   "source": [
    "# interaction 3 didn't turn out well lol"
   ]
  },
  {
   "cell_type": "code",
   "execution_count": null,
   "id": "a934c59e",
   "metadata": {},
   "outputs": [],
   "source": [
    "# FIXME do it again but replace attitude with request type"
   ]
  },
  {
   "cell_type": "code",
   "execution_count": null,
   "id": "4b3b9383",
   "metadata": {},
   "outputs": [],
   "source": []
  },
  {
   "cell_type": "code",
   "execution_count": null,
   "id": "def46bcb",
   "metadata": {},
   "outputs": [],
   "source": []
  }
 ],
 "metadata": {
  "@webio": {
   "lastCommId": null,
   "lastKernelId": null
  },
  "kernelspec": {
   "display_name": "Python 3 (ipykernel)",
   "language": "python",
   "name": "python3"
  },
  "language_info": {
   "codemirror_mode": {
    "name": "ipython",
    "version": 3
   },
   "file_extension": ".py",
   "mimetype": "text/x-python",
   "name": "python",
   "nbconvert_exporter": "python",
   "pygments_lexer": "ipython3",
   "version": "3.8.10"
  }
 },
 "nbformat": 4,
 "nbformat_minor": 5
}
